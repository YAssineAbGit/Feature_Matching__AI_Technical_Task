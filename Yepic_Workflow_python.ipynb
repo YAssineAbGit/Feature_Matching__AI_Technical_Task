{
 "cells": [
  {
   "cell_type": "markdown",
   "metadata": {},
   "source": [
    "# Yassine Abbazi\n",
    "# Project: Yepic AI technical task\n",
    "## Option 1: Computer Vision (Points registration and matching)\n",
    "### project description:\n",
    "Here we want you to figure out mapping from one item of clothing to another item of clothing and generate a mapping that matches points from one image to another image in a slightly different (warped) position. \n",
    "\n",
    "See link: https://docs.google.com/document/d/15WlXwbdwNSgYlCR7kLyuBGCfuDPo6X-qHEeK9k_dsGI/edit\n",
    "\n",
    "Below are two examples, but feel free to be creative with your approach!   "
   ]
  },
  {
   "cell_type": "markdown",
   "metadata": {},
   "source": [
    "<tr>\n",
    "    <td><img src=\"img/Mapping_example1.png\" style=\"width:400px\"/></td> \n",
    "    <td> or this <img src=\"img/Mapping_example2.png\" style=\"width:400px\"/></td>\n",
    "</tr>"
   ]
  },
  {
   "cell_type": "markdown",
   "metadata": {},
   "source": [
    "**Criteria:**\n",
    "* Code legibility—i.e. do we understand the code by itself by just looking at it and comments?\n",
    "* Reproducibility—i.e. will we get roughly the same results?\n",
    "* Critical analysis—i.e. have you done enough to understand what types of models \n",
    "* Documented research process—i.e. do we understand what steps you have taken and what experiments you have run? What worked?  What did not work?\n",
    "* Originality—i.e. have you moved at least a bit beyond the tutorials we can find online?\n"
   ]
  },
  {
   "cell_type": "markdown",
   "metadata": {},
   "source": [
    "## The tutorials proposed are the following:\n",
    "* Tutorial \\#1: Image Registration using OpenCV | Python  [click here](https://www.geeksforgeeks.org/image-registration-using-opencv-python/).\n",
    "\n",
    "* Tutorial \\#2: See the video below"
   ]
  },
  {
   "cell_type": "code",
   "execution_count": 1,
   "metadata": {
    "scrolled": true
   },
   "outputs": [
    {
     "data": {
      "text/html": [
       "<iframe width=\"560\" height=\"315\" src=\"https://www.youtube.com/embed/Fe-KWKPk9Zc\" frameborder=\"0\" allow=\"accelerometer; autoplay; encrypted-media; gyroscope; picture-in-picture\" allowfullscreen></iframe>"
      ],
      "text/plain": [
       "<IPython.core.display.HTML object>"
      ]
     },
     "metadata": {},
     "output_type": "display_data"
    }
   ],
   "source": [
    "%%html\n",
    "<iframe width=\"560\" height=\"315\" src=\"https://www.youtube.com/embed/Fe-KWKPk9Zc\" frameborder=\"0\" allow=\"accelerometer; autoplay; encrypted-media; gyroscope; picture-in-picture\" allowfullscreen></iframe>"
   ]
  },
  {
   "cell_type": "markdown",
   "metadata": {},
   "source": [
    "## Days I have to finish the project:\n",
    " \n",
    "- [x] Friday: Familiarize myself with the project\n",
    "- [ ] Saturday: \n",
    "   - [x] Learn How to use Jupyter Notebook in parallel with the documentation. \n",
    "   - [x] Download OpenCV and programming the examples in the tutorials. \n",
    "   - [ ] Do some research\n",
    "   - [ ] Litterature Research\n",
    "- [ ] Sunday: find similar projets.\n",
    "- [ ] Monday : programming\n",
    "- [ ] Tuesday : programming\n",
    "- [ ] Wednesday: programming\n",
    "- [ ] Thursday: programming\n",
    "- [ ] Friday: programming\n",
    "- [ ] Saturday: programming (share it on github)\n",
    "- [ ] Sunday: Handing the project\n",
    "- [ ] Monday: Handing the project\n"
   ]
  },
  {
   "cell_type": "markdown",
   "metadata": {},
   "source": [
    "# START OF THE PROJECT\n",
    "Quick search on how to use **Jupyter Notebook**: "
   ]
  },
  {
   "cell_type": "code",
   "execution_count": 2,
   "metadata": {
    "scrolled": true
   },
   "outputs": [
    {
     "data": {
      "text/html": [
       "<iframe width=\"560\" height=\"315\" src=\"https://www.youtube.com/embed/EEEZX_0FMEc\" frameborder=\"0\" allow=\"accelerometer; autoplay; encrypted-media; gyroscope; picture-in-picture\" allowfullscreen></iframe>"
      ],
      "text/plain": [
       "<IPython.core.display.HTML object>"
      ]
     },
     "metadata": {},
     "output_type": "display_data"
    }
   ],
   "source": [
    "%%HTML\n",
    "<iframe width=\"560\" height=\"315\" src=\"https://www.youtube.com/embed/EEEZX_0FMEc\" frameborder=\"0\" allow=\"accelerometer; autoplay; encrypted-media; gyroscope; picture-in-picture\" allowfullscreen></iframe>"
   ]
  },
  {
   "cell_type": "markdown",
   "metadata": {},
   "source": [
    "## Here I tried to run the codes in the tutorials first to see what is going on\n",
    "### the code below is the Tutorial \\#2"
   ]
  },
  {
   "cell_type": "markdown",
   "metadata": {},
   "source": [
    "the images are too big, we need to resize them: \n",
    "Search on internet how to resize images in OpenCV\n",
    "https://www.tutorialkart.com/opencv/python/opencv-python-resize-image/\n"
   ]
  },
  {
   "cell_type": "code",
   "execution_count": 3,
   "metadata": {},
   "outputs": [],
   "source": [
    "# check the working directory\n",
    "# print(os.getcwd())"
   ]
  },
  {
   "cell_type": "code",
   "execution_count": 4,
   "metadata": {},
   "outputs": [],
   "source": [
    "# You can load the file by uncommenting and executing the line below\n",
    "# %load Test_Yepic_Tutorial_Video.py"
   ]
  },
  {
   "cell_type": "code",
   "execution_count": 1,
   "metadata": {},
   "outputs": [
    {
     "name": "stdout",
     "output_type": "stream",
     "text": [
      "Matching_results\n"
     ]
    },
    {
     "data": {
      "text/plain": [
       "<Figure size 1500x1500 with 1 Axes>"
      ]
     },
     "metadata": {},
     "output_type": "display_data"
    }
   ],
   "source": [
    "%run Test_Yepic_Tutorial_Video.py"
   ]
  },
  {
   "cell_type": "code",
   "execution_count": null,
   "metadata": {},
   "outputs": [],
   "source": [
    "# This is not working\n",
    "#!python Test_Yepic_Tutorial_Video.py"
   ]
  },
  {
   "cell_type": "code",
   "execution_count": null,
   "metadata": {},
   "outputs": [],
   "source": []
  }
 ],
 "metadata": {
  "kernelspec": {
   "display_name": "Python 2",
   "language": "python",
   "name": "python2"
  },
  "language_info": {
   "codemirror_mode": {
    "name": "ipython",
    "version": 2
   },
   "file_extension": ".py",
   "mimetype": "text/x-python",
   "name": "python",
   "nbconvert_exporter": "python",
   "pygments_lexer": "ipython2",
   "version": "2.7.16"
  }
 },
 "nbformat": 4,
 "nbformat_minor": 2
}
