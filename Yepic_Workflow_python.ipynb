{
 "cells": [
  {
   "cell_type": "markdown",
   "metadata": {},
   "source": [
    "# Yassine Abbazi\n",
    "# Project: Yepic AI technical task\n",
    "## Option 1: Computer Vision (Points registration and matching)\n",
    "### project description:\n",
    "Here we want you to figure out mapping from one item of clothing to another item of clothing and generate a mapping that matches points from one image to another image in a slightly different (warped) position. \n",
    "\n",
    "See link: https://docs.google.com/document/d/15WlXwbdwNSgYlCR7kLyuBGCfuDPo6X-qHEeK9k_dsGI/edit\n",
    "\n",
    "Below are two examples, but feel free to be creative with your approach!   "
   ]
  },
  {
   "cell_type": "markdown",
   "metadata": {},
   "source": [
    "<tr>\n",
    "    <td><img src=\"img/Mapping_example1.png\" style=\"width:400px\"/></td> \n",
    "    <td> or this <img src=\"img/Mapping_example2.png\" style=\"width:400px\"/></td>\n",
    "</tr>"
   ]
  },
  {
   "cell_type": "markdown",
   "metadata": {},
   "source": [
    "**Criteria:**\n",
    "* Code legibility—i.e. do we understand the code by itself by just looking at it and comments?\n",
    "* Reproducibility—i.e. will we get roughly the same results?\n",
    "* Critical analysis—i.e. have you done enough to understand what types of models \n",
    "* Documented research process—i.e. do we understand what steps you have taken and what experiments you have run? What worked?  What did not work?\n",
    "* Originality—i.e. have you moved at least a bit beyond the tutorials we can find online?\n"
   ]
  },
  {
   "cell_type": "markdown",
   "metadata": {},
   "source": [
    "## The tutorials proposed are the following:\n",
    "* Tutorial \\#1: Image Registration using OpenCV | Python  [click here](https://www.geeksforgeeks.org/image-registration-using-opencv-python/).\n",
    "\n",
    "* Tutorial \\#2: See the video below"
   ]
  },
  {
   "cell_type": "code",
   "execution_count": 1,
   "metadata": {
    "scrolled": true
   },
   "outputs": [
    {
     "data": {
      "text/html": [
       "<iframe width=\"560\" height=\"315\" src=\"https://www.youtube.com/embed/Fe-KWKPk9Zc\" frameborder=\"0\" allow=\"accelerometer; autoplay; encrypted-media; gyroscope; picture-in-picture\" allowfullscreen></iframe>"
      ],
      "text/plain": [
       "<IPython.core.display.HTML object>"
      ]
     },
     "metadata": {},
     "output_type": "display_data"
    }
   ],
   "source": [
    "%%html\n",
    "<iframe width=\"560\" height=\"315\" src=\"https://www.youtube.com/embed/Fe-KWKPk9Zc\" frameborder=\"0\" allow=\"accelerometer; autoplay; encrypted-media; gyroscope; picture-in-picture\" allowfullscreen></iframe>"
   ]
  },
  {
   "cell_type": "markdown",
   "metadata": {},
   "source": [
    "## Days I have to finish the project:\n",
    " \n",
    "- [x] Friday: Familiarize myself with the project\n",
    "- [ ] Saturday: \n",
    "   - [x] Learn How to use Jupyter Notebook in parallel with the documentation. \n",
    "   - [x] Download OpenCV and programming the examples in the tutorials. \n",
    "   - [ ] Do some research\n",
    "   - [ ] Litterature Research\n",
    "- [ ] Sunday: find similar projets.\n",
    "- [ ] Monday : programming\n",
    "- [ ] Tuesday : programming\n",
    "- [ ] Wednesday: programming\n",
    "- [ ] Thursday: programming\n",
    "- [ ] Friday: programming\n",
    "- [ ] Saturday: programming (share it on github)\n",
    "- [ ] Sunday: Handing the project\n",
    "- [ ] Monday: Handing the project\n"
   ]
  },
  {
   "cell_type": "markdown",
   "metadata": {},
   "source": [
    "# START OF THE PROJECT\n",
    "Quick search on how to use **Jupyter Notebook**: "
   ]
  },
  {
   "cell_type": "code",
   "execution_count": 2,
   "metadata": {
    "scrolled": true
   },
   "outputs": [
    {
     "data": {
      "text/html": [
       "<iframe width=\"560\" height=\"315\" src=\"https://www.youtube.com/embed/EEEZX_0FMEc\" frameborder=\"0\" allow=\"accelerometer; autoplay; encrypted-media; gyroscope; picture-in-picture\" allowfullscreen></iframe>"
      ],
      "text/plain": [
       "<IPython.core.display.HTML object>"
      ]
     },
     "metadata": {},
     "output_type": "display_data"
    }
   ],
   "source": [
    "%%HTML\n",
    "<iframe width=\"560\" height=\"315\" src=\"https://www.youtube.com/embed/EEEZX_0FMEc\" frameborder=\"0\" allow=\"accelerometer; autoplay; encrypted-media; gyroscope; picture-in-picture\" allowfullscreen></iframe>"
   ]
  },
  {
   "cell_type": "markdown",
   "metadata": {},
   "source": [
    "## Here I tried to run the codes in the tutorials first to see what is going on\n",
    "### the code below is the Tutorial \\#2"
   ]
  },
  {
   "cell_type": "code",
   "execution_count": 5,
   "metadata": {},
   "outputs": [
    {
     "name": "stdout",
     "output_type": "stream",
     "text": [
      "file is --->:C:\\Users\\YESSINE AB\n"
     ]
    }
   ],
   "source": [
    "# -*- coding: utf-8 -*-\n",
    "\"\"\"\n",
    "Created on Sat Sep  7 13:58:14 2019\n",
    "\n",
    "@author: YesAB\n",
    "\"\"\"\n",
    "\n",
    "import cv2\n",
    "import numpy as np\n",
    "import os.path\n",
    "import os\n",
    "# =============================================================================\n",
    "# import os\n",
    "# script_path = os.path.dirname(os.path.abspath( __file__ ))\n",
    "# parent_dir= os.path.abspath(os.path.join(script_path, os.pardir))\n",
    "# =============================================================================\n",
    "\n",
    "print \"file is --->:\" + os.path.dirname(os.getcwd())\n",
    "#parent_dir=os.path.dirname(os.getcwd())\n",
    "wdir=os.getcwd()\n",
    "img1 = cv2.imread(wdir +\"\\img\\src_02.png\",cv2.IMREAD_GRAYSCALE)\n",
    "img2 = cv2.imread(wdir +\"\\img\\\\tar_02.png\",cv2.IMREAD_GRAYSCALE)\n",
    "\n",
    "\n",
    "# Rescaling Images:\n",
    "scale_percent = 40 # percent of original size\n",
    "\n",
    "width = int(img1.shape[1] * scale_percent / 100)\n",
    "height = int(img1.shape[0] * scale_percent / 100)\n",
    "dim = (width, height)\n",
    "# resize image 1\n",
    "img1 = cv2.resize(img1, dim, interpolation = cv2.INTER_AREA)\n",
    "\n",
    "# resize image 2\n",
    "img2 = cv2.resize(img2, dim, interpolation = cv2.INTER_AREA)\n",
    "\n",
    "\n",
    "# ORB Detector\n",
    "orb = cv2.ORB_create()\n",
    "kp1, des1 = orb.detectAndCompute(img1, None)\n",
    "kp2, des2 = orb.detectAndCompute(img2, None)\n",
    "\n",
    "# =============================================================================\n",
    "# for d in des1:\n",
    "#     print(d)\n",
    "# =============================================================================\n",
    "\n",
    "# Brute Force Matching:\n",
    "bf = cv2.BFMatcher(cv2.NORM_HAMMING, crossCheck=True)\n",
    "\n",
    "matches = bf.match(des1,des2)\n",
    "\n",
    "#print(len(matches)) 177\n",
    "\n",
    "matches = sorted(matches, key = lambda x:x.distance)\n",
    "\n",
    "matching_result = cv2.drawMatches(img1, kp1, img2, kp2, matches[:50], None, flags = 2)\n",
    "\n",
    "# =============================================================================\n",
    "# for m in matches:\n",
    "#     print(m.distance)\n",
    "# \n",
    "# =============================================================================\n",
    "\n",
    "# the images are too big, we need to resize them: \n",
    "# Search on internet how to resize images in OpenCV\n",
    "# https://www.tutorialkart.com/opencv/python/opencv-python-resize-image/\n",
    "\n",
    "#cv2.imshow(\"Image_1\",img1)\n",
    "#cv2.imshow(\"Image_2\",img2)\n",
    "\n",
    "cv2.imshow(\"C:\\Users\\YESSINE AB\\Yepic Project\\img\\Matching_result\", matching_result)                \n",
    "\n",
    "cv2.waitKey(0)\n",
    "cv2.destroyAllWindows()\n"
   ]
  },
  {
   "cell_type": "code",
   "execution_count": 6,
   "metadata": {},
   "outputs": [
    {
     "name": "stdout",
     "output_type": "stream",
     "text": [
      "file is --->:C:\\Users\\YESSINE AB\n"
     ]
    }
   ],
   "source": [
    "!python Test_Yepic_Tutorial_Video.py"
   ]
  },
  {
   "cell_type": "code",
   "execution_count": 3,
   "metadata": {},
   "outputs": [
    {
     "name": "stdout",
     "output_type": "stream",
     "text": [
      "C:\\Users\\YESSINE AB\\Yepic Project\n"
     ]
    }
   ],
   "source": [
    "print(os.getcwd())"
   ]
  },
  {
   "cell_type": "code",
   "execution_count": null,
   "metadata": {},
   "outputs": [],
   "source": []
  }
 ],
 "metadata": {
  "kernelspec": {
   "display_name": "Python 2",
   "language": "python",
   "name": "python2"
  }
 },
 "nbformat": 4,
 "nbformat_minor": 2
}
